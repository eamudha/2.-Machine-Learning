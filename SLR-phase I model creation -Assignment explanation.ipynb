{
 "cells": [
  {
   "cell_type": "code",
   "execution_count": null,
   "id": "e2f965d2",
   "metadata": {},
   "outputs": [],
   "source": [
    "#Importing the Libraries [Here pandas is the function call for formulae and run Machine Learning Programming]\n",
    "import pandas as pd"
   ]
  },
  {
   "cell_type": "code",
   "execution_count": null,
   "id": "0c794bca",
   "metadata": {},
   "outputs": [],
   "source": [
    "#data variables stored in Salary File [Here we call the data of requirement of client with the respective file name]\n",
    "dataset=pd.read_csv(\"Salary_Data.csv\")"
   ]
  },
  {
   "cell_type": "code",
   "execution_count": null,
   "id": "e79480d5",
   "metadata": {},
   "outputs": [],
   "source": [
    "#We categorise the input as independent variable and output as dependent variable - IDENTIFY THE VARIABLE X AND Y\n",
    "independent=dataset[[\"YearsExperience\"]]\n",
    "independent"
   ]
  },
  {
   "cell_type": "code",
   "execution_count": null,
   "id": "f3935905",
   "metadata": {},
   "outputs": [],
   "source": [
    "#IDENTIFY THE VARIABLE X AND Y\n",
    "dependent=dataset[[\"Salary\"]]\n",
    "dependent"
   ]
  },
  {
   "cell_type": "code",
   "execution_count": null,
   "id": "4c3de086",
   "metadata": {},
   "outputs": [],
   "source": [
    "#Here, call the function of \"Sklearn for model selection\" to split the train set & Test Set\n",
    "from sklearn.model_selection import train_test_split\n",
    "train_test_split(independent,dependent,test_size=0.30,random_state=0)"
   ]
  },
  {
   "cell_type": "code",
   "execution_count": null,
   "id": "410c93df",
   "metadata": {},
   "outputs": [],
   "source": [
    "#This function call the four variables to pass the parameter of x-(train,Test)and y-(train,test) to get the output of variables\n",
    "x_train,x_test,y_train,y_test=train_test_split(independent,dependent,test_size=0.30,random_state=0)"
   ]
  },
  {
   "cell_type": "code",
   "execution_count": null,
   "id": "485151bd",
   "metadata": {},
   "outputs": [],
   "source": [
    "#This function - To learn the variable of input(x-train) and output(y-train) [class of function]-Regressor fit - substitute the value/understood the weight and bias of the formulae\n",
    "#Substituition runs thru regessor.fit\n",
    "from sklearn.linear_model import LinearRegression\n",
    "regressor=LinearRegression()\n",
    "regressor.fit(x_train,y_train)"
   ]
  },
  {
   "cell_type": "code",
   "execution_count": null,
   "id": "2d13d1df",
   "metadata": {},
   "outputs": [],
   "source": [
    "#To know the weight of the formula means the slope of linear regression is runs thru this weight\n",
    "#the pattern is goes thru this weight only [M or W]\n",
    "weight=regressor.coef_\n",
    "weight"
   ]
  },
  {
   "cell_type": "code",
   "execution_count": null,
   "id": "05fd2178",
   "metadata": {},
   "outputs": [],
   "source": [
    "#To know the bias or intercept of the formula means the linear regression\n",
    "#the pattern is goes thru this constant only [c or b]\n",
    "bias=regressor.intercept_\n",
    "bias"
   ]
  },
  {
   "cell_type": "code",
   "execution_count": null,
   "id": "3ebed444",
   "metadata": {},
   "outputs": [],
   "source": [
    "#How evaluate the formula with predict output to cross check whether your model creation is good or not upto the mark\n",
    "#Test input data is cross checked the predicted data\n",
    "y_pred=regressor.predict(X_test)"
   ]
  },
  {
   "cell_type": "code",
   "execution_count": null,
   "id": "26e51a0c",
   "metadata": {},
   "outputs": [],
   "source": [
    "#Finding R^2 value, we call the function name as r2_score which fit into 0-1 or >1\n",
    "#Actual output versus predicted output:[Evaluation Metrics-To take Decision Making]\n",
    "from sklearn.metrics import r2_score\n",
    "r_score=r2_score(y_test,y_pred)\n",
    "r_Score"
   ]
  },
  {
   "cell_type": "code",
   "execution_count": null,
   "id": "7f34893e",
   "metadata": {},
   "outputs": [],
   "source": [
    "#How to save our model or deployment: Create one file name for save the predicted model with file name\n",
    "#extension of .sav/To insert the model which we stored in the name of regressor\n",
    "import pickle\n",
    "filename=\"finalyzed_model_linear.sav\""
   ]
  },
  {
   "cell_type": "code",
   "execution_count": null,
   "id": "e1e2eac0",
   "metadata": {},
   "outputs": [],
   "source": [
    "#After created file by function of pickle/\n",
    "#'Wb'means write binary and we have 'rb means read binary'\n",
    "#as we save the model separately then only we can work out freely\n",
    "#Check the jupyter location we can see the file which we have created in the name of \"finalyzed_model_linear\"\n",
    "pickle.dump(regressor,open(filename, 'wb'))"
   ]
  },
  {
   "cell_type": "code",
   "execution_count": null,
   "id": "b56a8619",
   "metadata": {},
   "outputs": [],
   "source": [
    "#Loaded the file:To set the model for deployment for our end user\n",
    "loaded_model=pickle.load(open(\"finalyzed_model_linear.sav\",'rb'))"
   ]
  },
  {
   "cell_type": "code",
   "execution_count": null,
   "id": "005fde46",
   "metadata": {},
   "outputs": [],
   "source": [
    "#Result: Cross check the loaded result by our enduser prediction:\n",
    "#Eg. User predict the salary of 10yrs experience\n",
    "#here we can call the result by individual no instead [[int input code can use]]\n",
    "loaded_model=pickle.load(open(\"finalyzed_model_linear.sav\",'rb'))\n",
    "result=loaded_model.predict([[10]])"
   ]
  },
  {
   "cell_type": "code",
   "execution_count": null,
   "id": "f14d87e3",
   "metadata": {},
   "outputs": [],
   "source": [
    "#DEPLOYMENT PHASE:\n",
    "#verification part of Linear Regression Formula:y=wx+b\n",
    "#See the below predicted value of \"10\" (10 years of exp) which we change as '0 exp or below 1yr exp'\n",
    "#The value is equal to y=wx since bias is zero\n",
    "loaded_model=pickle.load(open(\"finalyzed_model_linear.sav\",'rb'))\n",
    "result=loaded_model.predict([[10]])"
   ]
  },
  {
   "cell_type": "code",
   "execution_count": null,
   "id": "8f596d0e",
   "metadata": {},
   "outputs": [],
   "source": []
  },
  {
   "cell_type": "code",
   "execution_count": null,
   "id": "7678d85d",
   "metadata": {},
   "outputs": [],
   "source": []
  },
  {
   "cell_type": "code",
   "execution_count": null,
   "id": "ca064895",
   "metadata": {},
   "outputs": [],
   "source": []
  },
  {
   "cell_type": "code",
   "execution_count": null,
   "id": "e53840a7",
   "metadata": {},
   "outputs": [],
   "source": []
  }
 ],
 "metadata": {
  "kernelspec": {
   "display_name": "Python 3 (ipykernel)",
   "language": "python",
   "name": "python3"
  },
  "language_info": {
   "codemirror_mode": {
    "name": "ipython",
    "version": 3
   },
   "file_extension": ".py",
   "mimetype": "text/x-python",
   "name": "python",
   "nbconvert_exporter": "python",
   "pygments_lexer": "ipython3",
   "version": "3.11.5"
  }
 },
 "nbformat": 4,
 "nbformat_minor": 5
}
